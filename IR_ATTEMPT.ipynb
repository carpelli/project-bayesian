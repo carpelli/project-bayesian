{
  "nbformat": 4,
  "nbformat_minor": 0,
  "metadata": {
    "colab": {
      "name": "IR.ipynb",
      "provenance": [],
      "collapsed_sections": []
    },
    "kernelspec": {
      "name": "ir",
      "display_name": "R"
    }
  },
  "cells": [
    {
      "cell_type": "code",
      "metadata": {
        "id": "Z60PpIfIeF4Z"
      },
      "source": [
        ""
      ],
      "execution_count": null,
      "outputs": []
    },
    {
      "cell_type": "code",
      "metadata": {
        "id": "rCEtur7fajGn",
        "colab": {
          "base_uri": "https://localhost:8080/"
        },
        "outputId": "0f5cb0b6-eb29-4e5f-f8a3-0c8eb9f45859"
      },
      "source": [
        "cat(system('python3 -c \"from google.colab import drive\\ndrive.mount()\"', intern=TRUE), sep='\\n', wait=TRUE)"
      ],
      "execution_count": 1,
      "outputs": [
        {
          "output_type": "stream",
          "name": "stderr",
          "text": [
            "Warning message in system(\"python3 -c \\\"from google.colab import drive\\ndrive.mount()\\\"\", :\n",
            "“running command 'python3 -c \"from google.colab import drive\n",
            "drive.mount()\"' had status 1”\n"
          ]
        },
        {
          "output_type": "stream",
          "name": "stdout",
          "text": [
            "\n",
            "TRUE\n"
          ]
        }
      ]
    },
    {
      "cell_type": "code",
      "metadata": {
        "id": "T6aH0TahbghZ"
      },
      "source": [
        "?system"
      ],
      "execution_count": 2,
      "outputs": []
    },
    {
      "cell_type": "code",
      "metadata": {
        "id": "3o11KxDzyC0g",
        "outputId": "27eabf73-7a9f-4255-c986-5730e858fb6e",
        "colab": {
          "base_uri": "https://localhost:8080/"
        }
      },
      "source": [
        "install.packages(\"rgl\", repos = \"http://cran.rstudio.com/\")\n",
        "install.packages(\"ConsRank\", repos = \"http://cran.rstudio.com/\")\n",
        "library(\"ConsRank\")"
      ],
      "execution_count": 3,
      "outputs": [
        {
          "output_type": "stream",
          "name": "stderr",
          "text": [
            "Installing package into ‘/usr/local/lib/R/site-library’\n",
            "(as ‘lib’ is unspecified)\n",
            "\n",
            "also installing the dependency ‘htmlwidgets’\n",
            "\n",
            "\n",
            "Installing package into ‘/usr/local/lib/R/site-library’\n",
            "(as ‘lib’ is unspecified)\n",
            "\n",
            "also installing the dependencies ‘XML’, ‘rlist’, ‘proxy’, ‘gtools’\n",
            "\n",
            "\n",
            "Loading required package: rgl\n",
            "\n",
            "Warning message in rgl.init(initValue, onlyNULL):\n",
            "“RGL: unable to open X11 display”\n",
            "Warning message:\n",
            "“'rgl.init' failed, running with 'rgl.useNULL = TRUE'.”\n",
            "\n",
            "Attaching package: ‘ConsRank’\n",
            "\n",
            "\n",
            "The following object is masked from ‘package:base’:\n",
            "\n",
            "    labels\n",
            "\n",
            "\n"
          ]
        }
      ]
    },
    {
      "cell_type": "code",
      "metadata": {
        "id": "SPYGePw53fWq"
      },
      "source": [
        "system(\"add-apt-repository -y ppa:marutter/rrutter\")\n",
        "system(\"add-apt-repository -y ppa:marutter/c2d4u\")\n",
        "system(\"apt-get update\")\n",
        "system(\"apt install -y r-cran-rstan\")"
      ],
      "execution_count": 4,
      "outputs": []
    },
    {
      "cell_type": "code",
      "metadata": {
        "id": "1IzjHJFxv01f",
        "colab": {
          "base_uri": "https://localhost:8080/"
        },
        "outputId": "00d588f2-1e55-4768-bc5a-44e7234a60d9"
      },
      "source": [
        "install.packages('ggmap')\n",
        "install.packages('codetools')"
      ],
      "execution_count": 6,
      "outputs": [
        {
          "output_type": "stream",
          "name": "stderr",
          "text": [
            "Installing package into ‘/usr/local/lib/R/site-library’\n",
            "(as ‘lib’ is unspecified)\n",
            "\n",
            "also installing the dependencies ‘sp’, ‘RgoogleMaps’, ‘png’, ‘plyr’, ‘rjson’, ‘jpeg’, ‘bitops’\n",
            "\n",
            "\n",
            "Installing package into ‘/usr/local/lib/R/site-library’\n",
            "(as ‘lib’ is unspecified)\n",
            "\n"
          ]
        }
      ]
    },
    {
      "cell_type": "code",
      "metadata": {
        "id": "sdyV67dk2vGx",
        "colab": {
          "base_uri": "https://localhost:8080/"
        },
        "outputId": "95211166-10fd-44bb-fdf6-2289a26cd933"
      },
      "source": [
        "library(\"ggmap\")"
      ],
      "execution_count": 7,
      "outputs": [
        {
          "output_type": "stream",
          "name": "stderr",
          "text": [
            "Loading required package: ggplot2\n",
            "\n",
            "Google's Terms of Service: https://cloud.google.com/maps-platform/terms/.\n",
            "\n",
            "Please cite ggmap if you use it! See citation(\"ggmap\") for details.\n",
            "\n"
          ]
        }
      ]
    },
    {
      "cell_type": "code",
      "metadata": {
        "id": "qIbhtDzdwYdB",
        "colab": {
          "base_uri": "https://localhost:8080/"
        },
        "outputId": "70395f45-2ceb-4c94-c8f9-32c8d8c73492"
      },
      "source": [
        "options(repr.plot.width  = 3,\n",
        "        repr.plot.height = 3)\n",
        "Sys.setenv(USE_CXX14 = 1)\n",
        "library(\"rstan\") # observe startup messages\n",
        "options(mc.cores = parallel::detectCores())\n",
        "rstan_options(auto_write = TRUE)"
      ],
      "execution_count": 8,
      "outputs": [
        {
          "output_type": "stream",
          "name": "stderr",
          "text": [
            "Loading required package: StanHeaders\n",
            "\n",
            "rstan (Version 2.21.5, GitRev: 2e1f913d3ca3)\n",
            "\n",
            "For execution on a local, multicore CPU with excess RAM we recommend calling\n",
            "options(mc.cores = parallel::detectCores()).\n",
            "To avoid recompilation of unchanged Stan programs, we recommend calling\n",
            "rstan_options(auto_write = TRUE)\n",
            "\n"
          ]
        }
      ]
    },
    {
      "cell_type": "markdown",
      "source": [
        "#Notebook Starts Here:"
      ],
      "metadata": {
        "id": "-ES7Pm0TS9NP"
      }
    },
    {
      "cell_type": "markdown",
      "source": [
        "## Studying the Datasets"
      ],
      "metadata": {
        "id": "vmcq-8r-ThBU"
      }
    },
    {
      "cell_type": "markdown",
      "source": [
        "##First Iris Dataset:"
      ],
      "metadata": {
        "id": "pQ9yMxCTVTue"
      }
    },
    {
      "cell_type": "code",
      "source": [
        "install.packages(\"stopwords\")"
      ],
      "metadata": {
        "id": "uefftA5yoycg",
        "outputId": "750a1e1d-fb5c-4e44-9a55-48fce079eba3",
        "colab": {
          "base_uri": "https://localhost:8080/"
        }
      },
      "execution_count": 232,
      "outputs": [
        {
          "output_type": "stream",
          "name": "stderr",
          "text": [
            "Installing package into ‘/usr/local/lib/R/site-library’\n",
            "(as ‘lib’ is unspecified)\n",
            "\n"
          ]
        }
      ]
    },
    {
      "cell_type": "code",
      "source": [
        "library('datasets')\n",
        "data(iris)\n",
        "X <- iris[1:4]\n",
        "y <- map_int(iris[['Species']], ~ match(.x, levels(iris[['Species']])))\n"
      ],
      "metadata": {
        "id": "QBekwAguVZg8"
      },
      "execution_count": 233,
      "outputs": []
    },
    {
      "cell_type": "code",
      "source": [
        "# scale the data\n",
        "means <- sapply(X, mean)\n",
        "sds <- sapply(X, sd)\n",
        "X <- X %>% map2_df(means, `-`) %>% map2_df(sds, `/`)"
      ],
      "metadata": {
        "id": "vZECauQMVhw4"
      },
      "execution_count": 234,
      "outputs": []
    },
    {
      "cell_type": "code",
      "source": [
        "data <- list(\n",
        "  C = max(y),         # num categories\n",
        "  K = dim(X)[2],      # num features\n",
        "  N = dim(X)[1],      # num samples\n",
        "  y = y,              # category of sample n\n",
        "  x = X,              # sample n\n",
        "  alpha = c(1, 1, 1), # category prior\n",
        "  mu_mu = 0,          # feature mean prior\n",
        "  mu_sigma = 5,       # feature mean prior\n",
        "  sigma_alpha = 1,    # feature sd prior\n",
        "  sigma_beta = 1      # feature sd prior\n",
        ")\n"
      ],
      "metadata": {
        "id": "_vX0w_BhVvbs"
      },
      "execution_count": 235,
      "outputs": []
    },
    {
      "cell_type": "code",
      "source": [
        "train_size <- floor(0.8 * nrow(iris))\n",
        "ix <- sample(seq_len(nrow(iris)), size = train_size)\n",
        "\n",
        "X_train <- iris[ix, 1:4]\n",
        "X_test <- iris[-ix, 1:4]\n",
        "y_train <- y[ix]\n",
        "y_test <- y[-ix]\n",
        "\n",
        "\n",
        "means <- sapply(X_train, mean)\n",
        "sds <- sapply(X_train, sd)\n",
        "X_train <- X_train %>% map2_df(means, `-`) %>% map2_df(sds, `/`)\n",
        "X_test <- X_test %>% map2_df(means, `-`) %>% map2_df(sds, `/`)\n",
        "\n",
        "data$x <- X_train\n",
        "data$y <- y_train\n",
        "data$N <- nrow(X_train)\n"
      ],
      "metadata": {
        "id": "a5NG3nHLdeHr"
      },
      "execution_count": 236,
      "outputs": []
    },
    {
      "cell_type": "markdown",
      "source": [
        "### Bernoulli Bayes:"
      ],
      "metadata": {
        "id": "zg8QNKFZf2aw"
      }
    },
    {
      "cell_type": "markdown",
      "source": [
        "Given the Nature of the Data it does not work with Bernoulli Bayes!\n"
      ],
      "metadata": {
        "id": "4sp6cUSkf6cY"
      }
    },
    {
      "cell_type": "markdown",
      "source": [
        "### Gaussian Bayes:"
      ],
      "metadata": {
        "id": "8CH4_PdRfzc_"
      }
    },
    {
      "cell_type": "code",
      "source": [
        "fit <- stan(file = '/content/model_gaussian.stan', data = data, iter = 20000)"
      ],
      "metadata": {
        "id": "umtVZ5ykdnrK",
        "outputId": "822c5879-47b0-4933-9920-0a9b9e66adc4",
        "colab": {
          "base_uri": "https://localhost:8080/"
        }
      },
      "execution_count": 237,
      "outputs": [
        {
          "output_type": "stream",
          "name": "stderr",
          "text": [
            "Warning message in readLines(file, warn = TRUE):\n",
            "“incomplete final line found on '/content/model_gaussian.stan'”\n"
          ]
        }
      ]
    },
    {
      "cell_type": "code",
      "source": [
        "# retrieve the stan summary object\n",
        "smry <- summary(fit)$summary\n",
        "\n",
        "# retrieve our parameters from the summary\n",
        "mus <- smry[grepl('mu',row.names(smry)),'mean']\n",
        "sigmas <- smry[grepl('sigma\\\\[',row.names(smry)),'mean']\n",
        "thetas <- smry[grepl('theta',row.names(smry)),'mean'] %>% as.vector\n",
        "\n",
        "# adjust the dimensions so that they are (features, classes)\n",
        "dim(mus) <- c(data$K, data$C)\n",
        "dim(sigmas) <- c(data$K, data$C)"
      ],
      "metadata": {
        "id": "liVzHa20d5lo"
      },
      "execution_count": 238,
      "outputs": []
    },
    {
      "cell_type": "code",
      "source": [
        "# make a prediction by looping over each individual sample\n",
        "y_pred <- lapply(1:nrow(X_test), \\(i) as.matrix(X_test[i,]) |>\n",
        "  matrix(ncol=4) |>                               # shape the sample so that it broadcasts correctly\n",
        "  dnorm(mean = mus, sd = sigmas, log = TRUE) |>   # calculate the pd for the various features over all classes\n",
        "  colSums() |>                                    # sum the pds\n",
        "  (\\(x) x + log(thetas))() |>                     # add class probabilities (sometimes refered to as priors)\n",
        "  which.max()                                     # predict the class\n",
        ")"
      ],
      "metadata": {
        "id": "30PCb6yPeGuG"
      },
      "execution_count": 239,
      "outputs": []
    },
    {
      "cell_type": "code",
      "source": [
        "print(\"The Accuracy Obtained is:\")\n",
        "mean(y_pred==y_test)"
      ],
      "metadata": {
        "id": "b8cRTTSoeJ7m",
        "outputId": "190bfce4-1c99-45cd-a1a1-5cfcf695e9a2",
        "colab": {
          "base_uri": "https://localhost:8080/",
          "height": 52
        }
      },
      "execution_count": 240,
      "outputs": [
        {
          "output_type": "stream",
          "name": "stdout",
          "text": [
            "[1] \"The Accuracy Obtained is:\"\n"
          ]
        },
        {
          "output_type": "display_data",
          "data": {
            "text/html": [
              "0.9"
            ],
            "text/markdown": "0.9",
            "text/latex": "0.9",
            "text/plain": [
              "[1] 0.9"
            ]
          },
          "metadata": {}
        }
      ]
    },
    {
      "cell_type": "markdown",
      "source": [
        "### Multinomial Bayes:"
      ],
      "metadata": {
        "id": "PYu1ByzKeAEX"
      }
    },
    {
      "cell_type": "markdown",
      "source": [
        "Dataset is not discrete, and hence multinomial does not apply in this problem"
      ],
      "metadata": {
        "id": "6v8qOpFcnxPW"
      }
    },
    {
      "cell_type": "markdown",
      "source": [
        "### IMDB Sentiment Analysis:"
      ],
      "metadata": {
        "id": "lbS9Oxvcn4qz"
      }
    },
    {
      "cell_type": "code",
      "source": [
        "data <- read.csv(file = '/content/IMDB_Dataset.csv')\n",
        "library('stopwords')"
      ],
      "metadata": {
        "id": "UPeuoMsloHX5"
      },
      "execution_count": 105,
      "outputs": []
    },
    {
      "cell_type": "markdown",
      "source": [
        "Impossible to understand how to make a language model work with Stan."
      ],
      "metadata": {
        "id": "MfzN4Fp_rSOl"
      }
    },
    {
      "cell_type": "markdown",
      "source": [
        "### Raisin Dataset:"
      ],
      "metadata": {
        "id": "KSQ6QaLMrY9B"
      }
    },
    {
      "cell_type": "code",
      "source": [
        "data <- read.csv(file = '/content/Raisin_Dataset.csv')\n",
        "data = data[sample(1:nrow(data)), ]\n",
        "data[data == \"Besni\"] <- 2.0\n",
        "data[data == 'Kecimen'] <- 1.0\n",
        "data$Class <- as.integer(data$Class)               # Third column is an integer\n",
        "X = data[1:7]\n",
        "y = data[8]\n",
        "X <- X %>% map2_df(means, `-`) %>% map2_df(sds, `/`)\n",
        "means <- sapply(X, mean)\n",
        "sds <- sapply(X, sd)\n",
        "train_size <- floor(0.8 * nrow(data))\n",
        "ix <- sample(seq_len(nrow(data)), size = train_size)\n",
        "X_train <- data[ix, 1:7]\n",
        "X_test <- data[-ix, 1:7]\n",
        "y_train <- data[ix,8]\n",
        "y_test <- data[-ix,8]"
      ],
      "metadata": {
        "id": "KIehACK1ra80",
        "outputId": "fc348291-45a6-4afe-b97b-8c2493bca625",
        "colab": {
          "base_uri": "https://localhost:8080/"
        }
      },
      "execution_count": 210,
      "outputs": [
        {
          "output_type": "stream",
          "name": "stdout",
          "text": [
            "[1] 900   8\n",
            "[1] 900   8\n"
          ]
        }
      ]
    },
    {
      "cell_type": "code",
      "source": [
        "data"
      ],
      "metadata": {
        "id": "SrY0pdpnw2iK",
        "outputId": "80d8af1b-677e-4cb4-f79a-33a9ba5ad706",
        "colab": {
          "base_uri": "https://localhost:8080/",
          "height": 1000
        }
      },
      "execution_count": 213,
      "outputs": [
        {
          "output_type": "display_data",
          "data": {
            "text/html": [
              "<table class=\"dataframe\">\n",
              "<caption>A data.frame: 900 × 8</caption>\n",
              "<thead>\n",
              "\t<tr><th></th><th scope=col>Area</th><th scope=col>MajorAxisLength</th><th scope=col>MinorAxisLength</th><th scope=col>Eccentricity</th><th scope=col>ConvexArea</th><th scope=col>Extent</th><th scope=col>Perimeter</th><th scope=col>Class</th></tr>\n",
              "\t<tr><th></th><th scope=col>&lt;int&gt;</th><th scope=col>&lt;dbl&gt;</th><th scope=col>&lt;dbl&gt;</th><th scope=col>&lt;dbl&gt;</th><th scope=col>&lt;int&gt;</th><th scope=col>&lt;dbl&gt;</th><th scope=col>&lt;dbl&gt;</th><th scope=col>&lt;int&gt;</th></tr>\n",
              "</thead>\n",
              "<tbody>\n",
              "\t<tr><th scope=row>350</th><td> 67798</td><td>418.4081</td><td>207.8255</td><td>0.8679193</td><td> 69356</td><td>0.6910266</td><td>1073.138</td><td>1</td></tr>\n",
              "\t<tr><th scope=row>625</th><td> 71800</td><td>431.0086</td><td>218.7158</td><td>0.8616806</td><td> 77521</td><td>0.6481548</td><td>1187.724</td><td>2</td></tr>\n",
              "\t<tr><th scope=row>755</th><td>110785</td><td>560.0071</td><td>259.3973</td><td>0.8862519</td><td>116070</td><td>0.5585667</td><td>1456.757</td><td>2</td></tr>\n",
              "\t<tr><th scope=row>766</th><td>121080</td><td>573.4036</td><td>270.6325</td><td>0.8816116</td><td>124432</td><td>0.7237904</td><td>1418.385</td><td>2</td></tr>\n",
              "\t<tr><th scope=row>271</th><td> 54968</td><td>300.9544</td><td>234.3896</td><td>0.6272465</td><td> 56851</td><td>0.7513395</td><td> 893.644</td><td>1</td></tr>\n",
              "\t<tr><th scope=row>665</th><td>104669</td><td>546.6728</td><td>248.5279</td><td>0.8906859</td><td>110984</td><td>0.6873457</td><td>1398.545</td><td>2</td></tr>\n",
              "\t<tr><th scope=row>366</th><td> 47602</td><td>296.4930</td><td>206.2252</td><td>0.7184794</td><td> 49089</td><td>0.7211878</td><td> 840.545</td><td>1</td></tr>\n",
              "\t<tr><th scope=row>147</th><td> 75314</td><td>392.6516</td><td>246.0757</td><td>0.7792587</td><td> 77118</td><td>0.7047122</td><td>1073.768</td><td>1</td></tr>\n",
              "\t<tr><th scope=row>698</th><td> 93441</td><td>396.7908</td><td>300.8126</td><td>0.6521222</td><td> 95370</td><td>0.7233171</td><td>1157.771</td><td>2</td></tr>\n",
              "\t<tr><th scope=row>582</th><td>205497</td><td>632.7276</td><td>414.1883</td><td>0.7559688</td><td>209486</td><td>0.7692887</td><td>1736.839</td><td>2</td></tr>\n",
              "\t<tr><th scope=row>608</th><td> 54321</td><td>395.0118</td><td>182.3240</td><td>0.8871059</td><td> 58632</td><td>0.6250690</td><td>1021.989</td><td>2</td></tr>\n",
              "\t<tr><th scope=row>872</th><td>105091</td><td>507.6851</td><td>268.0873</td><td>0.8492081</td><td>108296</td><td>0.7002705</td><td>1295.591</td><td>2</td></tr>\n",
              "\t<tr><th scope=row>391</th><td> 49821</td><td>319.0821</td><td>202.2365</td><td>0.7734911</td><td> 51829</td><td>0.6779751</td><td> 907.423</td><td>1</td></tr>\n",
              "\t<tr><th scope=row>21</th><td> 69726</td><td>354.1769</td><td>252.5292</td><td>0.7011610</td><td> 71849</td><td>0.7343985</td><td>1035.501</td><td>1</td></tr>\n",
              "\t<tr><th scope=row>218</th><td> 64364</td><td>376.6625</td><td>221.6551</td><td>0.8085180</td><td> 67510</td><td>0.6547445</td><td>1057.897</td><td>1</td></tr>\n",
              "\t<tr><th scope=row>444</th><td> 68931</td><td>381.6717</td><td>231.5282</td><td>0.7949950</td><td> 71336</td><td>0.6793105</td><td>1067.692</td><td>1</td></tr>\n",
              "\t<tr><th scope=row>418</th><td> 47555</td><td>330.8993</td><td>186.2529</td><td>0.8265462</td><td> 50165</td><td>0.6807088</td><td> 873.837</td><td>1</td></tr>\n",
              "\t<tr><th scope=row>151</th><td> 45264</td><td>290.5884</td><td>203.3191</td><td>0.7144554</td><td> 48142</td><td>0.6569140</td><td> 879.832</td><td>1</td></tr>\n",
              "\t<tr><th scope=row>763</th><td>109011</td><td>504.3955</td><td>277.0340</td><td>0.8356650</td><td>111306</td><td>0.6209330</td><td>1297.147</td><td>2</td></tr>\n",
              "\t<tr><th scope=row>200</th><td> 59822</td><td>336.5841</td><td>227.9495</td><td>0.7357585</td><td> 60648</td><td>0.7002868</td><td> 916.044</td><td>1</td></tr>\n",
              "\t<tr><th scope=row>633</th><td> 83065</td><td>444.9996</td><td>241.3312</td><td>0.8401735</td><td> 87785</td><td>0.7205500</td><td>1182.561</td><td>2</td></tr>\n",
              "\t<tr><th scope=row>469</th><td>168276</td><td>656.0994</td><td>328.4869</td><td>0.8656403</td><td>174282</td><td>0.6815387</td><td>1685.283</td><td>2</td></tr>\n",
              "\t<tr><th scope=row>223</th><td> 56709</td><td>293.4085</td><td>247.7166</td><td>0.5359148</td><td> 58143</td><td>0.7782856</td><td> 904.508</td><td>1</td></tr>\n",
              "\t<tr><th scope=row>103</th><td> 57808</td><td>309.9717</td><td>241.3665</td><td>0.6274302</td><td> 58954</td><td>0.7103465</td><td> 911.857</td><td>1</td></tr>\n",
              "\t<tr><th scope=row>712</th><td>204226</td><td>648.2043</td><td>402.2833</td><td>0.7841179</td><td>207198</td><td>0.7739879</td><td>1724.662</td><td>2</td></tr>\n",
              "\t<tr><th scope=row>360</th><td> 63402</td><td>372.4843</td><td>224.0094</td><td>0.7989535</td><td> 66639</td><td>0.6766344</td><td>1008.276</td><td>1</td></tr>\n",
              "\t<tr><th scope=row>747</th><td>122433</td><td>585.2942</td><td>270.7088</td><td>0.8866102</td><td>128445</td><td>0.5794932</td><td>1526.711</td><td>2</td></tr>\n",
              "\t<tr><th scope=row>834</th><td> 78921</td><td>376.9878</td><td>268.8326</td><td>0.7010553</td><td> 82584</td><td>0.7199245</td><td>1144.959</td><td>2</td></tr>\n",
              "\t<tr><th scope=row>139</th><td> 53758</td><td>359.5316</td><td>193.4009</td><td>0.8429930</td><td> 57197</td><td>0.7102954</td><td> 965.068</td><td>1</td></tr>\n",
              "\t<tr><th scope=row>879</th><td>154498</td><td>621.3515</td><td>318.5977</td><td>0.8585382</td><td>159694</td><td>0.7500485</td><td>1585.782</td><td>2</td></tr>\n",
              "\t<tr><th scope=row>⋮</th><td>⋮</td><td>⋮</td><td>⋮</td><td>⋮</td><td>⋮</td><td>⋮</td><td>⋮</td><td>⋮</td></tr>\n",
              "\t<tr><th scope=row>141</th><td> 49175</td><td>281.4314</td><td>224.4859</td><td>0.6031106</td><td> 50672</td><td>0.7276130</td><td> 845.128</td><td>1</td></tr>\n",
              "\t<tr><th scope=row>704</th><td>135036</td><td>582.6875</td><td>301.5685</td><td>0.8556545</td><td>139124</td><td>0.6345677</td><td>1509.374</td><td>2</td></tr>\n",
              "\t<tr><th scope=row>456</th><td>154242</td><td>585.9281</td><td>337.5992</td><td>0.8173238</td><td>158371</td><td>0.7216000</td><td>1530.315</td><td>2</td></tr>\n",
              "\t<tr><th scope=row>164</th><td> 91831</td><td>463.3579</td><td>257.9511</td><td>0.8307139</td><td> 95560</td><td>0.7103704</td><td>1252.762</td><td>1</td></tr>\n",
              "\t<tr><th scope=row>539</th><td>145693</td><td>591.1801</td><td>321.4312</td><td>0.8392725</td><td>151644</td><td>0.6485275</td><td>1595.364</td><td>2</td></tr>\n",
              "\t<tr><th scope=row>12</th><td> 43725</td><td>301.3222</td><td>186.9506</td><td>0.7842585</td><td> 45021</td><td>0.6970682</td><td> 818.873</td><td>1</td></tr>\n",
              "\t<tr><th scope=row>127</th><td> 70941</td><td>326.0112</td><td>278.1027</td><td>0.5218350</td><td> 72330</td><td>0.7601093</td><td> 993.050</td><td>1</td></tr>\n",
              "\t<tr><th scope=row>896</th><td> 83248</td><td>430.0773</td><td>247.8387</td><td>0.8172626</td><td> 85839</td><td>0.6687929</td><td>1129.072</td><td>2</td></tr>\n",
              "\t<tr><th scope=row>115</th><td> 94063</td><td>448.1211</td><td>276.6078</td><td>0.7867582</td><td> 99085</td><td>0.7092938</td><td>1259.451</td><td>1</td></tr>\n",
              "\t<tr><th scope=row>511</th><td> 81901</td><td>450.8275</td><td>237.2090</td><td>0.8503834</td><td> 85000</td><td>0.5831079</td><td>1192.014</td><td>2</td></tr>\n",
              "\t<tr><th scope=row>791</th><td>108771</td><td>472.2082</td><td>294.4539</td><td>0.7817692</td><td>111241</td><td>0.7700493</td><td>1267.646</td><td>2</td></tr>\n",
              "\t<tr><th scope=row>885</th><td>110936</td><td>500.9313</td><td>286.2524</td><td>0.8206436</td><td>113888</td><td>0.7323959</td><td>1319.435</td><td>2</td></tr>\n",
              "\t<tr><th scope=row>673</th><td> 96139</td><td>498.3877</td><td>250.1120</td><td>0.8649591</td><td>100204</td><td>0.6753611</td><td>1298.138</td><td>2</td></tr>\n",
              "\t<tr><th scope=row>591</th><td>177916</td><td>581.7097</td><td>394.5247</td><td>0.7348629</td><td>181352</td><td>0.7372067</td><td>1647.505</td><td>2</td></tr>\n",
              "\t<tr><th scope=row>145</th><td> 46742</td><td>303.5552</td><td>199.4459</td><td>0.7538614</td><td> 48077</td><td>0.7052628</td><td> 847.792</td><td>1</td></tr>\n",
              "\t<tr><th scope=row>395</th><td> 89345</td><td>435.5509</td><td>262.0614</td><td>0.7987386</td><td> 91337</td><td>0.7138463</td><td>1176.657</td><td>1</td></tr>\n",
              "\t<tr><th scope=row>428</th><td> 39622</td><td>280.1125</td><td>185.1922</td><td>0.7502668</td><td> 40539</td><td>0.7330077</td><td> 766.531</td><td>1</td></tr>\n",
              "\t<tr><th scope=row>722</th><td> 91665</td><td>485.4521</td><td>243.0800</td><td>0.8656040</td><td> 95741</td><td>0.7000321</td><td>1244.563</td><td>2</td></tr>\n",
              "\t<tr><th scope=row>703</th><td>147843</td><td>651.0028</td><td>299.7433</td><td>0.8876944</td><td>155494</td><td>0.7193256</td><td>1633.723</td><td>2</td></tr>\n",
              "\t<tr><th scope=row>873</th><td> 66938</td><td>356.3233</td><td>248.6742</td><td>0.7162055</td><td> 69880</td><td>0.7086611</td><td>1022.705</td><td>2</td></tr>\n",
              "\t<tr><th scope=row>549</th><td>123056</td><td>618.1418</td><td>256.9501</td><td>0.9095103</td><td>128101</td><td>0.6412841</td><td>1522.028</td><td>2</td></tr>\n",
              "\t<tr><th scope=row>42</th><td> 71464</td><td>364.1031</td><td>253.7969</td><td>0.7170255</td><td> 73265</td><td>0.7154843</td><td>1036.940</td><td>1</td></tr>\n",
              "\t<tr><th scope=row>4</th><td> 45928</td><td>286.5406</td><td>208.7600</td><td>0.6849892</td><td> 47336</td><td>0.6995994</td><td> 844.162</td><td>1</td></tr>\n",
              "\t<tr><th scope=row>656</th><td> 69746</td><td>370.5605</td><td>241.9145</td><td>0.7575011</td><td> 72724</td><td>0.7126028</td><td>1027.513</td><td>2</td></tr>\n",
              "\t<tr><th scope=row>47</th><td> 69708</td><td>375.4473</td><td>239.1328</td><td>0.7709235</td><td> 71321</td><td>0.7271779</td><td>1022.568</td><td>1</td></tr>\n",
              "\t<tr><th scope=row>274</th><td> 67883</td><td>383.1890</td><td>233.3567</td><td>0.7931811</td><td> 70360</td><td>0.6978104</td><td>1030.869</td><td>1</td></tr>\n",
              "\t<tr><th scope=row>67</th><td> 54056</td><td>332.2676</td><td>208.6190</td><td>0.7783228</td><td> 55539</td><td>0.6745533</td><td> 912.153</td><td>1</td></tr>\n",
              "\t<tr><th scope=row>609</th><td>101439</td><td>524.8172</td><td>251.1606</td><td>0.8780507</td><td>107520</td><td>0.7333116</td><td>1393.213</td><td>2</td></tr>\n",
              "\t<tr><th scope=row>229</th><td> 75799</td><td>340.9827</td><td>289.1505</td><td>0.5300097</td><td> 79230</td><td>0.7411003</td><td>1065.191</td><td>1</td></tr>\n",
              "\t<tr><th scope=row>316</th><td> 46403</td><td>306.3041</td><td>196.6172</td><td>0.7667868</td><td> 48631</td><td>0.6376316</td><td> 843.960</td><td>1</td></tr>\n",
              "</tbody>\n",
              "</table>\n"
            ],
            "text/markdown": "\nA data.frame: 900 × 8\n\n| <!--/--> | Area &lt;int&gt; | MajorAxisLength &lt;dbl&gt; | MinorAxisLength &lt;dbl&gt; | Eccentricity &lt;dbl&gt; | ConvexArea &lt;int&gt; | Extent &lt;dbl&gt; | Perimeter &lt;dbl&gt; | Class &lt;int&gt; |\n|---|---|---|---|---|---|---|---|---|\n| 350 |  67798 | 418.4081 | 207.8255 | 0.8679193 |  69356 | 0.6910266 | 1073.138 | 1 |\n| 625 |  71800 | 431.0086 | 218.7158 | 0.8616806 |  77521 | 0.6481548 | 1187.724 | 2 |\n| 755 | 110785 | 560.0071 | 259.3973 | 0.8862519 | 116070 | 0.5585667 | 1456.757 | 2 |\n| 766 | 121080 | 573.4036 | 270.6325 | 0.8816116 | 124432 | 0.7237904 | 1418.385 | 2 |\n| 271 |  54968 | 300.9544 | 234.3896 | 0.6272465 |  56851 | 0.7513395 |  893.644 | 1 |\n| 665 | 104669 | 546.6728 | 248.5279 | 0.8906859 | 110984 | 0.6873457 | 1398.545 | 2 |\n| 366 |  47602 | 296.4930 | 206.2252 | 0.7184794 |  49089 | 0.7211878 |  840.545 | 1 |\n| 147 |  75314 | 392.6516 | 246.0757 | 0.7792587 |  77118 | 0.7047122 | 1073.768 | 1 |\n| 698 |  93441 | 396.7908 | 300.8126 | 0.6521222 |  95370 | 0.7233171 | 1157.771 | 2 |\n| 582 | 205497 | 632.7276 | 414.1883 | 0.7559688 | 209486 | 0.7692887 | 1736.839 | 2 |\n| 608 |  54321 | 395.0118 | 182.3240 | 0.8871059 |  58632 | 0.6250690 | 1021.989 | 2 |\n| 872 | 105091 | 507.6851 | 268.0873 | 0.8492081 | 108296 | 0.7002705 | 1295.591 | 2 |\n| 391 |  49821 | 319.0821 | 202.2365 | 0.7734911 |  51829 | 0.6779751 |  907.423 | 1 |\n| 21 |  69726 | 354.1769 | 252.5292 | 0.7011610 |  71849 | 0.7343985 | 1035.501 | 1 |\n| 218 |  64364 | 376.6625 | 221.6551 | 0.8085180 |  67510 | 0.6547445 | 1057.897 | 1 |\n| 444 |  68931 | 381.6717 | 231.5282 | 0.7949950 |  71336 | 0.6793105 | 1067.692 | 1 |\n| 418 |  47555 | 330.8993 | 186.2529 | 0.8265462 |  50165 | 0.6807088 |  873.837 | 1 |\n| 151 |  45264 | 290.5884 | 203.3191 | 0.7144554 |  48142 | 0.6569140 |  879.832 | 1 |\n| 763 | 109011 | 504.3955 | 277.0340 | 0.8356650 | 111306 | 0.6209330 | 1297.147 | 2 |\n| 200 |  59822 | 336.5841 | 227.9495 | 0.7357585 |  60648 | 0.7002868 |  916.044 | 1 |\n| 633 |  83065 | 444.9996 | 241.3312 | 0.8401735 |  87785 | 0.7205500 | 1182.561 | 2 |\n| 469 | 168276 | 656.0994 | 328.4869 | 0.8656403 | 174282 | 0.6815387 | 1685.283 | 2 |\n| 223 |  56709 | 293.4085 | 247.7166 | 0.5359148 |  58143 | 0.7782856 |  904.508 | 1 |\n| 103 |  57808 | 309.9717 | 241.3665 | 0.6274302 |  58954 | 0.7103465 |  911.857 | 1 |\n| 712 | 204226 | 648.2043 | 402.2833 | 0.7841179 | 207198 | 0.7739879 | 1724.662 | 2 |\n| 360 |  63402 | 372.4843 | 224.0094 | 0.7989535 |  66639 | 0.6766344 | 1008.276 | 1 |\n| 747 | 122433 | 585.2942 | 270.7088 | 0.8866102 | 128445 | 0.5794932 | 1526.711 | 2 |\n| 834 |  78921 | 376.9878 | 268.8326 | 0.7010553 |  82584 | 0.7199245 | 1144.959 | 2 |\n| 139 |  53758 | 359.5316 | 193.4009 | 0.8429930 |  57197 | 0.7102954 |  965.068 | 1 |\n| 879 | 154498 | 621.3515 | 318.5977 | 0.8585382 | 159694 | 0.7500485 | 1585.782 | 2 |\n| ⋮ | ⋮ | ⋮ | ⋮ | ⋮ | ⋮ | ⋮ | ⋮ | ⋮ |\n| 141 |  49175 | 281.4314 | 224.4859 | 0.6031106 |  50672 | 0.7276130 |  845.128 | 1 |\n| 704 | 135036 | 582.6875 | 301.5685 | 0.8556545 | 139124 | 0.6345677 | 1509.374 | 2 |\n| 456 | 154242 | 585.9281 | 337.5992 | 0.8173238 | 158371 | 0.7216000 | 1530.315 | 2 |\n| 164 |  91831 | 463.3579 | 257.9511 | 0.8307139 |  95560 | 0.7103704 | 1252.762 | 1 |\n| 539 | 145693 | 591.1801 | 321.4312 | 0.8392725 | 151644 | 0.6485275 | 1595.364 | 2 |\n| 12 |  43725 | 301.3222 | 186.9506 | 0.7842585 |  45021 | 0.6970682 |  818.873 | 1 |\n| 127 |  70941 | 326.0112 | 278.1027 | 0.5218350 |  72330 | 0.7601093 |  993.050 | 1 |\n| 896 |  83248 | 430.0773 | 247.8387 | 0.8172626 |  85839 | 0.6687929 | 1129.072 | 2 |\n| 115 |  94063 | 448.1211 | 276.6078 | 0.7867582 |  99085 | 0.7092938 | 1259.451 | 1 |\n| 511 |  81901 | 450.8275 | 237.2090 | 0.8503834 |  85000 | 0.5831079 | 1192.014 | 2 |\n| 791 | 108771 | 472.2082 | 294.4539 | 0.7817692 | 111241 | 0.7700493 | 1267.646 | 2 |\n| 885 | 110936 | 500.9313 | 286.2524 | 0.8206436 | 113888 | 0.7323959 | 1319.435 | 2 |\n| 673 |  96139 | 498.3877 | 250.1120 | 0.8649591 | 100204 | 0.6753611 | 1298.138 | 2 |\n| 591 | 177916 | 581.7097 | 394.5247 | 0.7348629 | 181352 | 0.7372067 | 1647.505 | 2 |\n| 145 |  46742 | 303.5552 | 199.4459 | 0.7538614 |  48077 | 0.7052628 |  847.792 | 1 |\n| 395 |  89345 | 435.5509 | 262.0614 | 0.7987386 |  91337 | 0.7138463 | 1176.657 | 1 |\n| 428 |  39622 | 280.1125 | 185.1922 | 0.7502668 |  40539 | 0.7330077 |  766.531 | 1 |\n| 722 |  91665 | 485.4521 | 243.0800 | 0.8656040 |  95741 | 0.7000321 | 1244.563 | 2 |\n| 703 | 147843 | 651.0028 | 299.7433 | 0.8876944 | 155494 | 0.7193256 | 1633.723 | 2 |\n| 873 |  66938 | 356.3233 | 248.6742 | 0.7162055 |  69880 | 0.7086611 | 1022.705 | 2 |\n| 549 | 123056 | 618.1418 | 256.9501 | 0.9095103 | 128101 | 0.6412841 | 1522.028 | 2 |\n| 42 |  71464 | 364.1031 | 253.7969 | 0.7170255 |  73265 | 0.7154843 | 1036.940 | 1 |\n| 4 |  45928 | 286.5406 | 208.7600 | 0.6849892 |  47336 | 0.6995994 |  844.162 | 1 |\n| 656 |  69746 | 370.5605 | 241.9145 | 0.7575011 |  72724 | 0.7126028 | 1027.513 | 2 |\n| 47 |  69708 | 375.4473 | 239.1328 | 0.7709235 |  71321 | 0.7271779 | 1022.568 | 1 |\n| 274 |  67883 | 383.1890 | 233.3567 | 0.7931811 |  70360 | 0.6978104 | 1030.869 | 1 |\n| 67 |  54056 | 332.2676 | 208.6190 | 0.7783228 |  55539 | 0.6745533 |  912.153 | 1 |\n| 609 | 101439 | 524.8172 | 251.1606 | 0.8780507 | 107520 | 0.7333116 | 1393.213 | 2 |\n| 229 |  75799 | 340.9827 | 289.1505 | 0.5300097 |  79230 | 0.7411003 | 1065.191 | 1 |\n| 316 |  46403 | 306.3041 | 196.6172 | 0.7667868 |  48631 | 0.6376316 |  843.960 | 1 |\n\n",
            "text/latex": "A data.frame: 900 × 8\n\\begin{tabular}{r|llllllll}\n  & Area & MajorAxisLength & MinorAxisLength & Eccentricity & ConvexArea & Extent & Perimeter & Class\\\\\n  & <int> & <dbl> & <dbl> & <dbl> & <int> & <dbl> & <dbl> & <int>\\\\\n\\hline\n\t350 &  67798 & 418.4081 & 207.8255 & 0.8679193 &  69356 & 0.6910266 & 1073.138 & 1\\\\\n\t625 &  71800 & 431.0086 & 218.7158 & 0.8616806 &  77521 & 0.6481548 & 1187.724 & 2\\\\\n\t755 & 110785 & 560.0071 & 259.3973 & 0.8862519 & 116070 & 0.5585667 & 1456.757 & 2\\\\\n\t766 & 121080 & 573.4036 & 270.6325 & 0.8816116 & 124432 & 0.7237904 & 1418.385 & 2\\\\\n\t271 &  54968 & 300.9544 & 234.3896 & 0.6272465 &  56851 & 0.7513395 &  893.644 & 1\\\\\n\t665 & 104669 & 546.6728 & 248.5279 & 0.8906859 & 110984 & 0.6873457 & 1398.545 & 2\\\\\n\t366 &  47602 & 296.4930 & 206.2252 & 0.7184794 &  49089 & 0.7211878 &  840.545 & 1\\\\\n\t147 &  75314 & 392.6516 & 246.0757 & 0.7792587 &  77118 & 0.7047122 & 1073.768 & 1\\\\\n\t698 &  93441 & 396.7908 & 300.8126 & 0.6521222 &  95370 & 0.7233171 & 1157.771 & 2\\\\\n\t582 & 205497 & 632.7276 & 414.1883 & 0.7559688 & 209486 & 0.7692887 & 1736.839 & 2\\\\\n\t608 &  54321 & 395.0118 & 182.3240 & 0.8871059 &  58632 & 0.6250690 & 1021.989 & 2\\\\\n\t872 & 105091 & 507.6851 & 268.0873 & 0.8492081 & 108296 & 0.7002705 & 1295.591 & 2\\\\\n\t391 &  49821 & 319.0821 & 202.2365 & 0.7734911 &  51829 & 0.6779751 &  907.423 & 1\\\\\n\t21 &  69726 & 354.1769 & 252.5292 & 0.7011610 &  71849 & 0.7343985 & 1035.501 & 1\\\\\n\t218 &  64364 & 376.6625 & 221.6551 & 0.8085180 &  67510 & 0.6547445 & 1057.897 & 1\\\\\n\t444 &  68931 & 381.6717 & 231.5282 & 0.7949950 &  71336 & 0.6793105 & 1067.692 & 1\\\\\n\t418 &  47555 & 330.8993 & 186.2529 & 0.8265462 &  50165 & 0.6807088 &  873.837 & 1\\\\\n\t151 &  45264 & 290.5884 & 203.3191 & 0.7144554 &  48142 & 0.6569140 &  879.832 & 1\\\\\n\t763 & 109011 & 504.3955 & 277.0340 & 0.8356650 & 111306 & 0.6209330 & 1297.147 & 2\\\\\n\t200 &  59822 & 336.5841 & 227.9495 & 0.7357585 &  60648 & 0.7002868 &  916.044 & 1\\\\\n\t633 &  83065 & 444.9996 & 241.3312 & 0.8401735 &  87785 & 0.7205500 & 1182.561 & 2\\\\\n\t469 & 168276 & 656.0994 & 328.4869 & 0.8656403 & 174282 & 0.6815387 & 1685.283 & 2\\\\\n\t223 &  56709 & 293.4085 & 247.7166 & 0.5359148 &  58143 & 0.7782856 &  904.508 & 1\\\\\n\t103 &  57808 & 309.9717 & 241.3665 & 0.6274302 &  58954 & 0.7103465 &  911.857 & 1\\\\\n\t712 & 204226 & 648.2043 & 402.2833 & 0.7841179 & 207198 & 0.7739879 & 1724.662 & 2\\\\\n\t360 &  63402 & 372.4843 & 224.0094 & 0.7989535 &  66639 & 0.6766344 & 1008.276 & 1\\\\\n\t747 & 122433 & 585.2942 & 270.7088 & 0.8866102 & 128445 & 0.5794932 & 1526.711 & 2\\\\\n\t834 &  78921 & 376.9878 & 268.8326 & 0.7010553 &  82584 & 0.7199245 & 1144.959 & 2\\\\\n\t139 &  53758 & 359.5316 & 193.4009 & 0.8429930 &  57197 & 0.7102954 &  965.068 & 1\\\\\n\t879 & 154498 & 621.3515 & 318.5977 & 0.8585382 & 159694 & 0.7500485 & 1585.782 & 2\\\\\n\t⋮ & ⋮ & ⋮ & ⋮ & ⋮ & ⋮ & ⋮ & ⋮ & ⋮\\\\\n\t141 &  49175 & 281.4314 & 224.4859 & 0.6031106 &  50672 & 0.7276130 &  845.128 & 1\\\\\n\t704 & 135036 & 582.6875 & 301.5685 & 0.8556545 & 139124 & 0.6345677 & 1509.374 & 2\\\\\n\t456 & 154242 & 585.9281 & 337.5992 & 0.8173238 & 158371 & 0.7216000 & 1530.315 & 2\\\\\n\t164 &  91831 & 463.3579 & 257.9511 & 0.8307139 &  95560 & 0.7103704 & 1252.762 & 1\\\\\n\t539 & 145693 & 591.1801 & 321.4312 & 0.8392725 & 151644 & 0.6485275 & 1595.364 & 2\\\\\n\t12 &  43725 & 301.3222 & 186.9506 & 0.7842585 &  45021 & 0.6970682 &  818.873 & 1\\\\\n\t127 &  70941 & 326.0112 & 278.1027 & 0.5218350 &  72330 & 0.7601093 &  993.050 & 1\\\\\n\t896 &  83248 & 430.0773 & 247.8387 & 0.8172626 &  85839 & 0.6687929 & 1129.072 & 2\\\\\n\t115 &  94063 & 448.1211 & 276.6078 & 0.7867582 &  99085 & 0.7092938 & 1259.451 & 1\\\\\n\t511 &  81901 & 450.8275 & 237.2090 & 0.8503834 &  85000 & 0.5831079 & 1192.014 & 2\\\\\n\t791 & 108771 & 472.2082 & 294.4539 & 0.7817692 & 111241 & 0.7700493 & 1267.646 & 2\\\\\n\t885 & 110936 & 500.9313 & 286.2524 & 0.8206436 & 113888 & 0.7323959 & 1319.435 & 2\\\\\n\t673 &  96139 & 498.3877 & 250.1120 & 0.8649591 & 100204 & 0.6753611 & 1298.138 & 2\\\\\n\t591 & 177916 & 581.7097 & 394.5247 & 0.7348629 & 181352 & 0.7372067 & 1647.505 & 2\\\\\n\t145 &  46742 & 303.5552 & 199.4459 & 0.7538614 &  48077 & 0.7052628 &  847.792 & 1\\\\\n\t395 &  89345 & 435.5509 & 262.0614 & 0.7987386 &  91337 & 0.7138463 & 1176.657 & 1\\\\\n\t428 &  39622 & 280.1125 & 185.1922 & 0.7502668 &  40539 & 0.7330077 &  766.531 & 1\\\\\n\t722 &  91665 & 485.4521 & 243.0800 & 0.8656040 &  95741 & 0.7000321 & 1244.563 & 2\\\\\n\t703 & 147843 & 651.0028 & 299.7433 & 0.8876944 & 155494 & 0.7193256 & 1633.723 & 2\\\\\n\t873 &  66938 & 356.3233 & 248.6742 & 0.7162055 &  69880 & 0.7086611 & 1022.705 & 2\\\\\n\t549 & 123056 & 618.1418 & 256.9501 & 0.9095103 & 128101 & 0.6412841 & 1522.028 & 2\\\\\n\t42 &  71464 & 364.1031 & 253.7969 & 0.7170255 &  73265 & 0.7154843 & 1036.940 & 1\\\\\n\t4 &  45928 & 286.5406 & 208.7600 & 0.6849892 &  47336 & 0.6995994 &  844.162 & 1\\\\\n\t656 &  69746 & 370.5605 & 241.9145 & 0.7575011 &  72724 & 0.7126028 & 1027.513 & 2\\\\\n\t47 &  69708 & 375.4473 & 239.1328 & 0.7709235 &  71321 & 0.7271779 & 1022.568 & 1\\\\\n\t274 &  67883 & 383.1890 & 233.3567 & 0.7931811 &  70360 & 0.6978104 & 1030.869 & 1\\\\\n\t67 &  54056 & 332.2676 & 208.6190 & 0.7783228 &  55539 & 0.6745533 &  912.153 & 1\\\\\n\t609 & 101439 & 524.8172 & 251.1606 & 0.8780507 & 107520 & 0.7333116 & 1393.213 & 2\\\\\n\t229 &  75799 & 340.9827 & 289.1505 & 0.5300097 &  79230 & 0.7411003 & 1065.191 & 1\\\\\n\t316 &  46403 & 306.3041 & 196.6172 & 0.7667868 &  48631 & 0.6376316 &  843.960 & 1\\\\\n\\end{tabular}\n",
            "text/plain": [
              "    Area   MajorAxisLength MinorAxisLength Eccentricity ConvexArea Extent   \n",
              "350  67798 418.4081        207.8255        0.8679193     69356     0.6910266\n",
              "625  71800 431.0086        218.7158        0.8616806     77521     0.6481548\n",
              "755 110785 560.0071        259.3973        0.8862519    116070     0.5585667\n",
              "766 121080 573.4036        270.6325        0.8816116    124432     0.7237904\n",
              "271  54968 300.9544        234.3896        0.6272465     56851     0.7513395\n",
              "665 104669 546.6728        248.5279        0.8906859    110984     0.6873457\n",
              "366  47602 296.4930        206.2252        0.7184794     49089     0.7211878\n",
              "147  75314 392.6516        246.0757        0.7792587     77118     0.7047122\n",
              "698  93441 396.7908        300.8126        0.6521222     95370     0.7233171\n",
              "582 205497 632.7276        414.1883        0.7559688    209486     0.7692887\n",
              "608  54321 395.0118        182.3240        0.8871059     58632     0.6250690\n",
              "872 105091 507.6851        268.0873        0.8492081    108296     0.7002705\n",
              "391  49821 319.0821        202.2365        0.7734911     51829     0.6779751\n",
              "21   69726 354.1769        252.5292        0.7011610     71849     0.7343985\n",
              "218  64364 376.6625        221.6551        0.8085180     67510     0.6547445\n",
              "444  68931 381.6717        231.5282        0.7949950     71336     0.6793105\n",
              "418  47555 330.8993        186.2529        0.8265462     50165     0.6807088\n",
              "151  45264 290.5884        203.3191        0.7144554     48142     0.6569140\n",
              "763 109011 504.3955        277.0340        0.8356650    111306     0.6209330\n",
              "200  59822 336.5841        227.9495        0.7357585     60648     0.7002868\n",
              "633  83065 444.9996        241.3312        0.8401735     87785     0.7205500\n",
              "469 168276 656.0994        328.4869        0.8656403    174282     0.6815387\n",
              "223  56709 293.4085        247.7166        0.5359148     58143     0.7782856\n",
              "103  57808 309.9717        241.3665        0.6274302     58954     0.7103465\n",
              "712 204226 648.2043        402.2833        0.7841179    207198     0.7739879\n",
              "360  63402 372.4843        224.0094        0.7989535     66639     0.6766344\n",
              "747 122433 585.2942        270.7088        0.8866102    128445     0.5794932\n",
              "834  78921 376.9878        268.8326        0.7010553     82584     0.7199245\n",
              "139  53758 359.5316        193.4009        0.8429930     57197     0.7102954\n",
              "879 154498 621.3515        318.5977        0.8585382    159694     0.7500485\n",
              "⋮   ⋮      ⋮               ⋮               ⋮            ⋮          ⋮        \n",
              "141  49175 281.4314        224.4859        0.6031106     50672     0.7276130\n",
              "704 135036 582.6875        301.5685        0.8556545    139124     0.6345677\n",
              "456 154242 585.9281        337.5992        0.8173238    158371     0.7216000\n",
              "164  91831 463.3579        257.9511        0.8307139     95560     0.7103704\n",
              "539 145693 591.1801        321.4312        0.8392725    151644     0.6485275\n",
              "12   43725 301.3222        186.9506        0.7842585     45021     0.6970682\n",
              "127  70941 326.0112        278.1027        0.5218350     72330     0.7601093\n",
              "896  83248 430.0773        247.8387        0.8172626     85839     0.6687929\n",
              "115  94063 448.1211        276.6078        0.7867582     99085     0.7092938\n",
              "511  81901 450.8275        237.2090        0.8503834     85000     0.5831079\n",
              "791 108771 472.2082        294.4539        0.7817692    111241     0.7700493\n",
              "885 110936 500.9313        286.2524        0.8206436    113888     0.7323959\n",
              "673  96139 498.3877        250.1120        0.8649591    100204     0.6753611\n",
              "591 177916 581.7097        394.5247        0.7348629    181352     0.7372067\n",
              "145  46742 303.5552        199.4459        0.7538614     48077     0.7052628\n",
              "395  89345 435.5509        262.0614        0.7987386     91337     0.7138463\n",
              "428  39622 280.1125        185.1922        0.7502668     40539     0.7330077\n",
              "722  91665 485.4521        243.0800        0.8656040     95741     0.7000321\n",
              "703 147843 651.0028        299.7433        0.8876944    155494     0.7193256\n",
              "873  66938 356.3233        248.6742        0.7162055     69880     0.7086611\n",
              "549 123056 618.1418        256.9501        0.9095103    128101     0.6412841\n",
              "42   71464 364.1031        253.7969        0.7170255     73265     0.7154843\n",
              "4    45928 286.5406        208.7600        0.6849892     47336     0.6995994\n",
              "656  69746 370.5605        241.9145        0.7575011     72724     0.7126028\n",
              "47   69708 375.4473        239.1328        0.7709235     71321     0.7271779\n",
              "274  67883 383.1890        233.3567        0.7931811     70360     0.6978104\n",
              "67   54056 332.2676        208.6190        0.7783228     55539     0.6745533\n",
              "609 101439 524.8172        251.1606        0.8780507    107520     0.7333116\n",
              "229  75799 340.9827        289.1505        0.5300097     79230     0.7411003\n",
              "316  46403 306.3041        196.6172        0.7667868     48631     0.6376316\n",
              "    Perimeter Class\n",
              "350 1073.138  1    \n",
              "625 1187.724  2    \n",
              "755 1456.757  2    \n",
              "766 1418.385  2    \n",
              "271  893.644  1    \n",
              "665 1398.545  2    \n",
              "366  840.545  1    \n",
              "147 1073.768  1    \n",
              "698 1157.771  2    \n",
              "582 1736.839  2    \n",
              "608 1021.989  2    \n",
              "872 1295.591  2    \n",
              "391  907.423  1    \n",
              "21  1035.501  1    \n",
              "218 1057.897  1    \n",
              "444 1067.692  1    \n",
              "418  873.837  1    \n",
              "151  879.832  1    \n",
              "763 1297.147  2    \n",
              "200  916.044  1    \n",
              "633 1182.561  2    \n",
              "469 1685.283  2    \n",
              "223  904.508  1    \n",
              "103  911.857  1    \n",
              "712 1724.662  2    \n",
              "360 1008.276  1    \n",
              "747 1526.711  2    \n",
              "834 1144.959  2    \n",
              "139  965.068  1    \n",
              "879 1585.782  2    \n",
              "⋮   ⋮         ⋮    \n",
              "141  845.128  1    \n",
              "704 1509.374  2    \n",
              "456 1530.315  2    \n",
              "164 1252.762  1    \n",
              "539 1595.364  2    \n",
              "12   818.873  1    \n",
              "127  993.050  1    \n",
              "896 1129.072  2    \n",
              "115 1259.451  1    \n",
              "511 1192.014  2    \n",
              "791 1267.646  2    \n",
              "885 1319.435  2    \n",
              "673 1298.138  2    \n",
              "591 1647.505  2    \n",
              "145  847.792  1    \n",
              "395 1176.657  1    \n",
              "428  766.531  1    \n",
              "722 1244.563  2    \n",
              "703 1633.723  2    \n",
              "873 1022.705  2    \n",
              "549 1522.028  2    \n",
              "42  1036.940  1    \n",
              "4    844.162  1    \n",
              "656 1027.513  2    \n",
              "47  1022.568  1    \n",
              "274 1030.869  1    \n",
              "67   912.153  1    \n",
              "609 1393.213  2    \n",
              "229 1065.191  1    \n",
              "316  843.960  1    "
            ]
          },
          "metadata": {}
        }
      ]
    },
    {
      "cell_type": "code",
      "source": [
        "data2 <- list(\n",
        "  C = max(y),         # num categories\n",
        "  K = dim(data)[2]-1,      # num features\n",
        "  N = dim(data)[1],      # num samples\n",
        "  y = y,              # category of sample n\n",
        "  x = X,              # sample n\n",
        "  alpha = c(1, 1), # category prior\n",
        "  mu_mu = 0,          # feature mean prior\n",
        "  mu_sigma = 5,       # feature mean prior\n",
        "  sigma_alpha = 1,    # feature sd prior\n",
        "  sigma_beta = 1      # feature sd prior\n",
        ")\n"
      ],
      "metadata": {
        "id": "3XGrjasLwXDM"
      },
      "execution_count": 214,
      "outputs": []
    },
    {
      "cell_type": "code",
      "source": [
        "means <- sapply(X_train, mean)\n",
        "sds <- sapply(X_train, sd)\n",
        "X_train <- X_train %>% map2_df(means, `-`) %>% map2_df(sds, `/`)\n",
        "X_test <- X_test %>% map2_df(means, `-`) %>% map2_df(sds, `/`)"
      ],
      "metadata": {
        "id": "7G2tsJ9_wL0I"
      },
      "execution_count": 215,
      "outputs": []
    },
    {
      "cell_type": "code",
      "source": [
        "data2$x <- X_train\n",
        "data2$y <- y_train\n",
        "data2$N <- nrow(X_train)\n"
      ],
      "metadata": {
        "id": "FvgMd3aJwSZQ"
      },
      "execution_count": 217,
      "outputs": []
    },
    {
      "cell_type": "markdown",
      "source": [
        "### Gaussian Model:"
      ],
      "metadata": {
        "id": "FGhcfSqHB-1u"
      }
    },
    {
      "cell_type": "code",
      "source": [
        "fit <- stan(file = '/content/model_gaussian.stan', data = data2, iter = 1000)"
      ],
      "metadata": {
        "id": "tm-ua0cb0GWS",
        "outputId": "a5106fb4-05d9-4f79-aef0-a50ad807ca4c",
        "colab": {
          "base_uri": "https://localhost:8080/"
        }
      },
      "execution_count": 218,
      "outputs": [
        {
          "output_type": "stream",
          "name": "stderr",
          "text": [
            "Warning message in readLines(file, warn = TRUE):\n",
            "“incomplete final line found on '/content/model_gaussian.stan'”\n"
          ]
        }
      ]
    },
    {
      "cell_type": "code",
      "source": [
        "# retrieve the stan summary object\n",
        "smry <- summary(fit)$summary\n",
        "\n",
        "# retrieve our parameters from the summary\n",
        "mus <- smry[grepl('mu',row.names(smry)),'mean']\n",
        "sigmas <- smry[grepl('sigma\\\\[',row.names(smry)),'mean']\n",
        "thetas <- smry[grepl('theta',row.names(smry)),'mean'] %>% as.vector\n",
        "\n",
        "# adjust the dimensions so that they are (features, classes)\n",
        "dim(mus) <- c(data$K, data$C)\n",
        "dim(sigmas) <- c(data$K, data$C)"
      ],
      "metadata": {
        "id": "kCfS3kUaBawe"
      },
      "execution_count": 219,
      "outputs": []
    },
    {
      "cell_type": "code",
      "source": [
        "# make a prediction by looping over each individual sample\n",
        "y_pred <- lapply(1:nrow(X_test), \\(i) as.matrix(X_test[i,]) |>\n",
        "  matrix(ncol=7) |>                               # shape the sample so that it broadcasts correctly\n",
        "  dnorm(mean = mus, sd = sigmas, log = TRUE) |>   # calculate the pd for the various features over all classes\n",
        "  colSums() |>                                    # sum the pds\n",
        "  (\\(x) x + log(thetas))() |>                     # add class probabilities (sometimes refered to as priors)\n",
        "  which.max()                                     # predict the class\n",
        ")"
      ],
      "metadata": {
        "id": "bmgUxYlpCLtG",
        "outputId": "c9ba8fb2-8b0b-4496-d56f-86d8d809cb18",
        "colab": {
          "base_uri": "https://localhost:8080/",
          "height": 305
        }
      },
      "execution_count": 223,
      "outputs": [
        {
          "output_type": "error",
          "ename": "ERROR",
          "evalue": "ignored",
          "traceback": [
            "Error in colSums(dnorm(matrix(as.matrix(X_test[i, ]), ncol = 7), mean = mus, : 'x' must be an array of at least two dimensions\nTraceback:\n",
            "1. lapply(1:nrow(X_test), function(i) which.max((function(x) x + \n .     log(thetas))(colSums(dnorm(matrix(as.matrix(X_test[i, ]), \n .     ncol = 7), mean = mus, sd = sigmas, log = TRUE)))))",
            "2. FUN(X[[i]], ...)",
            "3. which.max((function(x) x + log(thetas))(colSums(dnorm(matrix(as.matrix(X_test[i, \n .     ]), ncol = 7), mean = mus, sd = sigmas, log = TRUE))))   # at line 2-7 of file <text>",
            "4. (function(x) x + log(thetas))(colSums(dnorm(matrix(as.matrix(X_test[i, \n .     ]), ncol = 7), mean = mus, sd = sigmas, log = TRUE)))",
            "5. colSums(dnorm(matrix(as.matrix(X_test[i, ]), ncol = 7), mean = mus, \n .     sd = sigmas, log = TRUE))   # at line 6 of file <text>",
            "6. stop(\"'x' must be an array of at least two dimensions\")"
          ]
        }
      ]
    },
    {
      "cell_type": "code",
      "source": [
        "mean(y_pred==y_test)"
      ],
      "metadata": {
        "id": "HcWrxj5TCM3a"
      },
      "execution_count": null,
      "outputs": []
    },
    {
      "cell_type": "code",
      "source": [
        "X_test[1,]"
      ],
      "metadata": {
        "id": "V4q_OhxIDcnR",
        "outputId": "889ab86c-ac32-4992-ef74-67543be96983",
        "colab": {
          "base_uri": "https://localhost:8080/",
          "height": 129
        }
      },
      "execution_count": 231,
      "outputs": [
        {
          "output_type": "display_data",
          "data": {
            "text/html": [
              "<table class=\"dataframe\">\n",
              "<caption>A tibble: 1 × 7</caption>\n",
              "<thead>\n",
              "\t<tr><th scope=col>Area</th><th scope=col>MajorAxisLength</th><th scope=col>MinorAxisLength</th><th scope=col>Eccentricity</th><th scope=col>ConvexArea</th><th scope=col>Extent</th><th scope=col>Perimeter</th></tr>\n",
              "\t<tr><th scope=col>&lt;dbl&gt;</th><th scope=col>&lt;dbl&gt;</th><th scope=col>&lt;dbl&gt;</th><th scope=col>&lt;dbl&gt;</th><th scope=col>&lt;dbl&gt;</th><th scope=col>&lt;dbl&gt;</th><th scope=col>&lt;dbl&gt;</th></tr>\n",
              "</thead>\n",
              "<tbody>\n",
              "\t<tr><td>-0.3905625</td><td>0.01521064</td><td>-0.688234</td><td>0.8842502</td><td>-0.3160537</td><td>-0.8953966</td><td>0.09362229</td></tr>\n",
              "</tbody>\n",
              "</table>\n"
            ],
            "text/markdown": "\nA tibble: 1 × 7\n\n| Area &lt;dbl&gt; | MajorAxisLength &lt;dbl&gt; | MinorAxisLength &lt;dbl&gt; | Eccentricity &lt;dbl&gt; | ConvexArea &lt;dbl&gt; | Extent &lt;dbl&gt; | Perimeter &lt;dbl&gt; |\n|---|---|---|---|---|---|---|\n| -0.3905625 | 0.01521064 | -0.688234 | 0.8842502 | -0.3160537 | -0.8953966 | 0.09362229 |\n\n",
            "text/latex": "A tibble: 1 × 7\n\\begin{tabular}{lllllll}\n Area & MajorAxisLength & MinorAxisLength & Eccentricity & ConvexArea & Extent & Perimeter\\\\\n <dbl> & <dbl> & <dbl> & <dbl> & <dbl> & <dbl> & <dbl>\\\\\n\\hline\n\t -0.3905625 & 0.01521064 & -0.688234 & 0.8842502 & -0.3160537 & -0.8953966 & 0.09362229\\\\\n\\end{tabular}\n",
            "text/plain": [
              "  Area       MajorAxisLength MinorAxisLength Eccentricity ConvexArea Extent    \n",
              "1 -0.3905625 0.01521064      -0.688234       0.8842502    -0.3160537 -0.8953966\n",
              "  Perimeter \n",
              "1 0.09362229"
            ]
          },
          "metadata": {}
        }
      ]
    }
  ]
}