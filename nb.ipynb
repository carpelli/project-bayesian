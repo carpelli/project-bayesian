{
 "cells": [
  {
   "cell_type": "code",
   "execution_count": 70,
   "metadata": {},
   "outputs": [],
   "source": [
    "import numpy as np\n",
    "\n",
    "class NaiveBayes:\n",
    "  # all probabilities inside the class are log\n",
    "\n",
    "  def __init__(self, *, param_func, prob_func, param_priors=None):\n",
    "    # user-provided function to compute the distribution parameters\n",
    "    # the function should return an list of parameter arrays (...)\n",
    "    self.param_func = param_func\n",
    "\n",
    "    # user-provided function to compute the probabilities from the parameters\n",
    "    # the input are the parameter arrays and the X\n",
    "    self.prob_func = prob_func\n",
    "\n",
    "    self.param_priors = [param_priors] if param_priors is not None else []\n",
    "\n",
    "  def fit(self, X, y):\n",
    "    # retrieve the number of samples and features from X\n",
    "    self.n_samples, self.n_features = X.shape\n",
    "\n",
    "    # collect the individual classes, and record their counts to compute priors\n",
    "    self.classes, counts = np.unique(y, return_counts=True)\n",
    "\n",
    "    # compute the parameters for every class - we transpose the array so that\n",
    "    # the final dimensions are (parameters, classes, features)\n",
    "    self.params = np.array(\n",
    "      [self.param_func(X[c==y], *self.param_priors) for c in self.classes]\n",
    "    ).transpose(1, 0, 2)\n",
    "\n",
    "    # compute the priors from the counts\n",
    "    self.class_probs = np.log(counts/self.n_samples)\n",
    "\n",
    "    return self\n",
    "\n",
    "  def posteriors(self, X):\n",
    "    # reshape X to fit the array dimensions (samples, classes, features)\n",
    "    X = np.reshape(X, (-1, 1, self.n_features))\n",
    "\n",
    "    # compute the probabilities of the samples (...)\n",
    "    probs = np.log(self.prob_func(X, *self.params[:,np.newaxis]))\n",
    "    return probs.sum(axis=2) + self.class_probs[np.newaxis]\n",
    "\n",
    "  def predict_proba(self, X):\n",
    "    exp_post = np.exp(self.posteriors(X))\n",
    "    return exp_post / exp_post.sum()\n",
    "\n",
    "  def predict(self, X):\n",
    "    return self.classes[np.argmax(self.posteriors(X), axis=1)]"
   ]
  },
  {
   "cell_type": "code",
   "execution_count": 69,
   "metadata": {},
   "outputs": [
    {
     "data": {
      "text/plain": [
       "array([[9.09924795e-01, 4.53409680e-01, 3.82570122e+00, 2.63595072e+00],\n",
       "       [1.68996887e-01, 3.52695054e-02, 9.34980226e-09, 1.01370778e-07],\n",
       "       [3.20029198e-02, 1.39707396e-01, 3.69704606e-13, 1.79028790e-10]])"
      ]
     },
     "execution_count": 69,
     "metadata": {},
     "output_type": "execute_result"
    }
   ],
   "source": [
    "gauss(X[0], nb.params[0], nb.params[1])"
   ]
  },
  {
   "cell_type": "markdown",
   "metadata": {},
   "source": [
    "## Gaussian Naive Bayes"
   ]
  },
  {
   "cell_type": "code",
   "execution_count": 71,
   "metadata": {},
   "outputs": [
    {
     "data": {
      "text/plain": [
       "0.9666666666666667"
      ]
     },
     "execution_count": 71,
     "metadata": {},
     "output_type": "execute_result"
    }
   ],
   "source": [
    "from sklearn.model_selection import train_test_split\n",
    "from sklearn import datasets\n",
    "from sklearn.preprocessing import StandardScaler\n",
    "\n",
    "X, y = datasets.load_iris(return_X_y=True)\n",
    "# X_train, X_test, y_train, y_test = train_test_split(X, y, test_size=0.2, random_state=1)\n",
    "\n",
    "X = StandardScaler().fit_transform(X)\n",
    "# scaler = StandardScaler().fit(X_train)\n",
    "# X_train = scaler.transform(X_train)\n",
    "# X_test = scaler.transform(X_test)\n",
    "\n",
    "def mean_var(X):\n",
    "  return [X.mean(axis=0), X.var(axis=0)]\n",
    "def gauss(x, mean, var):\n",
    "  return np.exp(-(x-mean)**2/(2*var)) / np.sqrt(var*2*np.pi)\n",
    "\n",
    "nb = NaiveBayes(param_func=mean_var, prob_func=gauss).fit(X, y)\n",
    "y_pred = nb.predict(X_test)\n",
    "(y_pred == y_test).mean()"
   ]
  },
  {
   "cell_type": "code",
   "execution_count": 74,
   "metadata": {},
   "outputs": [
    {
     "name": "stdout",
     "output_type": "stream",
     "text": [
      "mu:\n",
      "[[-1.01457897  0.85326268 -1.30498732 -1.25489349]\n",
      " [ 0.11228223 -0.66143204  0.28532388  0.1667341 ]\n",
      " [ 0.90229674 -0.19183064  1.01966344  1.08815939]]\n",
      "sigma:\n",
      "[[0.42281163 0.86382391 0.0977141  0.13732713]\n",
      " [0.61914766 0.71509357 0.26440097 0.25768996]\n",
      " [0.76273803 0.73491557 0.31053007 0.35789433]]\n"
     ]
    }
   ],
   "source": [
    "mu, var = nb.params\n",
    "print(f'mu:\\n{mu}\\nsigma:\\n{np.sqrt(var)}')"
   ]
  },
  {
   "cell_type": "markdown",
   "metadata": {},
   "source": [
    "## Bernoulli Naive Bayes"
   ]
  },
  {
   "cell_type": "code",
   "execution_count": 76,
   "metadata": {},
   "outputs": [
    {
     "data": {
      "text/plain": [
       "array([[0.19237241, 0.80762759]])"
      ]
     },
     "execution_count": 76,
     "metadata": {},
     "output_type": "execute_result"
    }
   ],
   "source": [
    "X_S = [[0,1,1,1,0,0],\n",
    "    [0,0,1,1,1,0],\n",
    "    [1,1,0,0,0,0],\n",
    "    [1,1,0,0,0,1],\n",
    "    [1,0,1,0,1,0]]\n",
    "X_E = [[1,1,1,1,1,1,1],\n",
    "  [0,1,1,1,1,0,0],\n",
    "  [0,0,1,0,0,1,1],\n",
    "  [1,0,1,1,1,1,0],\n",
    "  [1,1,0,0,1,0,0]]\n",
    "\n",
    "X = np.c_[X_S, X_E].T\n",
    "y = len(X_S[0])*[0] + len(X_E[0])*[1]\n",
    "\n",
    "nb = NaiveBayes(\n",
    "  param_func=lambda X: [X.mean(axis=0)],\n",
    "  prob_func=lambda x, theta: theta*x + (1-theta)*(1-x)\n",
    ").fit(X, y)\n",
    "\n",
    "nb.predict_proba([1,0,1,1,0])"
   ]
  },
  {
   "cell_type": "markdown",
   "metadata": {},
   "source": [
    "### Bayesian version"
   ]
  },
  {
   "cell_type": "code",
   "execution_count": 78,
   "metadata": {},
   "outputs": [
    {
     "data": {
      "text/plain": [
       "array([[0.23601128, 0.76398872]])"
      ]
     },
     "execution_count": 78,
     "metadata": {},
     "output_type": "execute_result"
    }
   ],
   "source": [
    "# not sure this is MAP actually\n",
    "def map_bernoulli(X, alpha):\n",
    "  return [\n",
    "    (X.sum(axis=0) + alpha[1] - 1) / (len(X) + alpha.sum(axis=0) - 2)\n",
    "  ]\n",
    "def bernoulli(x, theta):\n",
    "  return theta*x + (1-theta)*(1-x)\n",
    "\n",
    "nb = NaiveBayes(\n",
    "  param_func=map_bernoulli,\n",
    "  prob_func=bernoulli,\n",
    "  param_priors=np.full((2, 5), 2)\n",
    ").fit(X, y)\n",
    "\n",
    "nb.predict_proba([1,0,1,1,0])"
   ]
  }
 ],
 "metadata": {
  "kernelspec": {
   "display_name": "Python 3.9.13 ('base')",
   "language": "python",
   "name": "python3"
  },
  "language_info": {
   "codemirror_mode": {
    "name": "ipython",
    "version": 3
   },
   "file_extension": ".py",
   "mimetype": "text/x-python",
   "name": "python",
   "nbconvert_exporter": "python",
   "pygments_lexer": "ipython3",
   "version": "3.9.13"
  },
  "orig_nbformat": 4,
  "vscode": {
   "interpreter": {
    "hash": "c30f2af5f468e7f5b45bcc30fca5f4886c90d54777aed916ed5f6294dfb24bf2"
   }
  }
 },
 "nbformat": 4,
 "nbformat_minor": 2
}
