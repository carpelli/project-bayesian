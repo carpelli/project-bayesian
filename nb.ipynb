{
 "cells": [
  {
   "cell_type": "code",
   "execution_count": 36,
   "metadata": {},
   "outputs": [],
   "source": [
    "import numpy as np\n",
    "\n",
    "class NaiveBayes:\n",
    "  # all probabilities inside the class are log\n",
    "\n",
    "  def __init__(self, *, param_func, prob_func):\n",
    "    # user-provided function to compute the distribution parameters\n",
    "    # the function should return an list of parameter arrays (...)\n",
    "    self.param_func = param_func\n",
    "\n",
    "    # user-provided function to compute the probabilities from the parameters\n",
    "    # the input are the parameter arrays and the X\n",
    "    self.prob_func = prob_func\n",
    "\n",
    "  def fit(self, X, y):\n",
    "    # retrieve the number of samples and features from X\n",
    "    self.n_samples, self.n_features = X.shape\n",
    "\n",
    "    # collect the individual classes, and record their counts to compute priors\n",
    "    self.classes, counts = np.unique(y, return_counts=True)\n",
    "\n",
    "    # compute the parameters for every class - we transpose the array so that\n",
    "    # the final dimensions are (parameters, classes, features)\n",
    "    self.params = np.array(\n",
    "      [self.param_func(X[c==y]) for c in self.classes]\n",
    "    ).transpose(1, 0, 2)\n",
    "\n",
    "    # compute the priors from the counts\n",
    "    self.priors = np.log(counts/self.n_samples)\n",
    "\n",
    "    return self\n",
    "\n",
    "  def posteriors(self, X):\n",
    "    # reshape X to fit the array dimensions (samples, classes, features)\n",
    "    X = np.reshape(X, (-1, 1, self.n_features))\n",
    "\n",
    "    # compute the probabilities of the samples (...)\n",
    "    probs = np.log(self.prob_func(*self.params[:,np.newaxis], X))\n",
    "    return probs.sum(axis=2) + self.priors[np.newaxis]\n",
    "\n",
    "  def predict_proba(self, X):\n",
    "    exp_post = np.exp(self.posteriors(X))\n",
    "    return exp_post / exp_post.sum(axis=1)[:,np.newaxis]\n",
    "\n",
    "  def predict(self, X):\n",
    "    return self.classes[np.argmax(self.posteriors(X), axis=1)]"
   ]
  },
  {
   "cell_type": "markdown",
   "metadata": {},
   "source": [
    "### Gaussian Naive Bayes"
   ]
  },
  {
   "cell_type": "code",
   "execution_count": 40,
   "metadata": {},
   "outputs": [
    {
     "data": {
      "text/plain": [
       "0.9666666666666667"
      ]
     },
     "execution_count": 40,
     "metadata": {},
     "output_type": "execute_result"
    }
   ],
   "source": [
    "from sklearn.model_selection import train_test_split\n",
    "from sklearn import datasets\n",
    "\n",
    "X, y = datasets.load_iris(return_X_y=True)\n",
    "X_train, X_test, y_train, y_test = train_test_split(X, y, test_size=0.2)\n",
    "\n",
    "def mean_var(X):\n",
    "  return [X.mean(axis=0), X.var(axis=0)]\n",
    "def gauss(mean, var, x):\n",
    "  return np.exp(-(x-mean)**2/(2*var)) / np.sqrt(var*2*np.pi)\n",
    "\n",
    "nb = NaiveBayes(param_func=mean_var, prob_func=gauss).fit(X_train, y_train)\n",
    "y_pred = nb.predict(X_test)\n",
    "(y_pred == y_test).mean()"
   ]
  },
  {
   "cell_type": "markdown",
   "metadata": {},
   "source": [
    "### Bernoulli Naive Bayes"
   ]
  },
  {
   "cell_type": "code",
   "execution_count": 29,
   "metadata": {},
   "outputs": [
    {
     "data": {
      "text/plain": [
       "array([1])"
      ]
     },
     "execution_count": 29,
     "metadata": {},
     "output_type": "execute_result"
    }
   ],
   "source": [
    "X_S = [[0,1,1,1,0,0],\n",
    "    [0,0,1,1,1,0],\n",
    "    [1,1,0,0,0,0],\n",
    "    [1,1,0,0,0,1],\n",
    "    [1,0,1,0,1,0]]\n",
    "X_E = [[1,1,1,1,1,1,1],\n",
    "  [0,1,1,1,1,0,0],\n",
    "  [0,0,1,0,0,1,1],\n",
    "  [1,0,1,1,1,1,0],\n",
    "  [1,1,0,0,1,0,0]]\n",
    "\n",
    "X = np.c_[X_S, X_E].T\n",
    "y = len(X_S[0])*[0] + len(X_E[0])*[1]\n",
    "\n",
    "nb = NaiveBayes(\n",
    "  param_func=lambda X: [X.mean(axis=0)],\n",
    "  prob_func=lambda theta, x: theta*x + (1-theta)*(1-x)\n",
    ").fit(X, y)\n",
    "\n",
    "nb.predict([1,0,1,1,0])"
   ]
  },
  {
   "cell_type": "code",
   "execution_count": 30,
   "metadata": {},
   "outputs": [
    {
     "data": {
      "text/plain": [
       "array([[0.19237241, 0.80762759]])"
      ]
     },
     "execution_count": 30,
     "metadata": {},
     "output_type": "execute_result"
    }
   ],
   "source": [
    "nb.predict_proba([1,0,1,1,0])"
   ]
  }
 ],
 "metadata": {
  "kernelspec": {
   "display_name": "Python 3.9.13 ('base')",
   "language": "python",
   "name": "python3"
  },
  "language_info": {
   "codemirror_mode": {
    "name": "ipython",
    "version": 3
   },
   "file_extension": ".py",
   "mimetype": "text/x-python",
   "name": "python",
   "nbconvert_exporter": "python",
   "pygments_lexer": "ipython3",
   "version": "3.9.13"
  },
  "orig_nbformat": 4,
  "vscode": {
   "interpreter": {
    "hash": "c30f2af5f468e7f5b45bcc30fca5f4886c90d54777aed916ed5f6294dfb24bf2"
   }
  }
 },
 "nbformat": 4,
 "nbformat_minor": 2
}
